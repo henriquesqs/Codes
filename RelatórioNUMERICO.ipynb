{
  "nbformat": 4,
  "nbformat_minor": 0,
  "metadata": {
    "colab": {
      "name": "RelatórioNUMERICO.ipynb",
      "provenance": [],
      "collapsed_sections": [],
      "include_colab_link": true
    },
    "kernelspec": {
      "name": "python3",
      "display_name": "Python 3"
    }
  },
  "cells": [
    {
      "cell_type": "markdown",
      "metadata": {
        "id": "view-in-github",
        "colab_type": "text"
      },
      "source": [
        "<a href=\"https://colab.research.google.com/github/henriquesqs/University/blob/master/Relat%C3%B3rioNUMERICO.ipynb\" target=\"_parent\"><img src=\"https://colab.research.google.com/assets/colab-badge.svg\" alt=\"Open In Colab\"/></a>"
      ]
    },
    {
      "cell_type": "markdown",
      "metadata": {
        "id": "CpJ3e2qgq7_H",
        "colab_type": "text"
      },
      "source": [
        "---\n",
        "# Relatório sobre a matéria de Cálculo Numérico - SME0104\n",
        "##### Professora Dr. Cynthia de Oliveira Lage Ferreira - ICMC/USP 2020\n",
        "##### Dupla composta por:\n",
        "- Henrique de S. Q. dos Santos, **NUSP 10819029**\n",
        "- Witor M. A. de Oliveira, **NUSP 10692190**\n",
        "---\n",
        "## Sistemas Lineares\n",
        "\n",
        "#### Definição\n",
        "\n",
        "São sistemas com *m* equações com *n* incógnitas do tipo `Ax = b`, onde *A* representa a matriz de coeficientes do sistema, *x* as incógnitas e *b* os termos constantes. Esse sistema pode ser reescrito, também, como a imagem a seguir, retirada da [Wikipedia](https://pt.wikipedia.org/wiki/Sistema_de_equa%C3%A7%C3%B5es_lineares#Forma_geral):\n",
        "\n",
        "![imagem contendo o sistema de equações em sua forma geral](https://wikimedia.org/api/rest_v1/media/math/render/svg/1d7e517f808c90ba6c74a0ed4db5b4a4605381c0)\n",
        "\n",
        "Na imagem acima, saiba que *an* representa a n-ésima coluna da matriz A. O nosso objetivo aqui é apresentar métodos numéricos que possibilitem a resolução desses sistemas, principalmente com um número elevado de equações.\n",
        "\n",
        "#### Solução\n",
        "Para a solução (única) do sistema listado acima, estudaremos os **métodos diretos** e **iterativos**, já que, para alguns sistemas, os métodos tradicionais levariam muito tempo (mesmo se feito por um computador). Abaixo, descrição sobre os métodos:\n",
        "\n",
        "- **Métodos diretos**: fornecem a solução \"exata\", salvo arredondamentos;\n",
        "- **Métodos iterativos**: fornecem uma sequência de operações convergentes ao vetor solução *x*, dado um chute inicial.\n",
        "\n",
        "Além disso, para atingirmos nosso objetivo de conseguir uma solução única (ou convergente à essa solução), podemos usar alguns conceitos da álgebra linear (a demonstração destes não cabe à este relatório). Podemos afirmar que o sistema linear de ordem *n* possui solução única se uma das condições abaixo (equivalentes) valem:\n",
        "\n",
        "1. Determinante(A) `=/=` 0, i.e., A é **não-singular**;\n",
        "2. As colunas ou linhas de A são linearmente independentes (LI);\n",
        "3. Existe uma matriz inversa (**A'**) tal que `(A x A' = A' x A = I)`, onde I é a matriz identidade;\n",
        "\n",
        "Existem mais algumas condições (em relação ao **espaço coluna** e **espaço nulo** de A) que não serão usadas no projeto, portanto não serão mostradas\n",
        "\n",
        "Utilizando os métodos acima, desenvolveremos um código capaz de achar, se existir, a solução do sistema linear de ordem *n*. Nosso código irá oferecer a resolução utilizando os métodos **diretos**, **iterativos** e uma opção de **comparação do desempenho das duas**. Para o método direto, utilizaremos a **eliminação de Gauss (com e sem pivoteamento)**, a decomposição de Cholesky e a decomposição LU. Já para os iterativos, utilizaremos **os metodos de Gauss-Seidel e Gauss-Jacobi**.\n",
        "\n",
        "#### Resolvendo o exemplo\n",
        "Todos os métodos abaixo irão testar o mesmo exemplo que foi disponibilizado pela UFOP através do link https://tinyurl.com/y3axpsjr . Segue:\n",
        "\n",
        "![Exercício](https://i.imgur.com/W20obCU.png)\n",
        "\n",
        "De acordo com a resolução fornecida pelo mesmo documento, o resultado segue como:\n",
        "\n",
        "#### `y_linha = [7, -27, 5].T` & `x = [3, −6, 1].T`\n"
      ]
    },
    {
      "cell_type": "markdown",
      "metadata": {
        "id": "mrecAMOVU57V",
        "colab_type": "text"
      },
      "source": [
        "#### Decomposição de Cholesky\n",
        "É a decomposição de uma **matriz hermitiana** e **positiva definida** no produto de uma **matriz triangular inferior** e sua matriz adjunta `(A = L x L')`, onde L é uma matriz triangular inferior com entradas diagonais positivas e reais, e L' denota a matriz conjugada transposta de L.\n",
        "\n",
        "##### Definições\n",
        "1. **Matriz simétrica**: matriz que é igual a sua transposta `(A = A.T)`;\n",
        "2. **Matriz simétrica positiva definida**: matriz a qual seus autovalores são todos não-nulos (essa condição nos basta);\n",
        "3. **Matriz hermitiana**: matriz que é idêntica à sua transposta conjugada;\n",
        "4. **Matriz triangular inferior**: matriz a qual os elementos acima da diagonal principal são nulos.\n"
      ]
    },
    {
      "cell_type": "markdown",
      "metadata": {
        "id": "rZHqGSEHqACk",
        "colab_type": "text"
      },
      "source": [
        "#### Método de Gauss (com pivoteamento parcial)\n",
        "Esse método transforma o sistema `Ax = b` dado em um sistema triangular superior equivalente através de transformações elementares na matriz aumentada e resolve esse sistema utilizando substituições retroativas (regressivas).\n",
        "\n",
        "##### Definições\n",
        "1. **Sistema equivalente**: sistema que possui o mesmo vetor solução que o sistema original;\n",
        "2. **Matriz aumentada**: de acordo com o [Wikipedia](https://pt.wikipedia.org/wiki/Matriz_aumentada), é a \"matriz obtida anexando as colunas de duas matrizes fornecidas\";\n",
        "3. **Transformações elementares**: operações realizadas nas linhas da matriz aumentada, sendo elas a **troca de duas linhas**, **multiplicação de uma linha por uma constante não-nula** e **adição à uma linha de um múltiplo de outra linha**."
      ]
    },
    {
      "cell_type": "markdown",
      "metadata": {
        "id": "dVFEjN92qDpV",
        "colab_type": "text"
      },
      "source": [
        "#### Decomposição LU\n",
        "Método responsável por dividir a matriz de coeficientes A em duas matrizes triangulares L (inferior) e U (superior) de tal forma que `A = L * U`. Assim, o sistema linear \n",
        "`Ax = b` pode ser escrito como\n",
        "```\n",
        "Ax = (L.U) * x = L * (Ux) = b\n",
        "```\n",
        "##### Definições\n",
        "1. **Matriz singular** = determinante da matriz é diferente de 0."
      ]
    },
    {
      "cell_type": "code",
      "metadata": {
        "id": "cLB_lkSCa66s",
        "colab_type": "code",
        "colab": {}
      },
      "source": [
        "import math\n",
        "import numpy as np\n",
        "from sklearn import datasets\n",
        "from scipy.linalg import lu"
      ],
      "execution_count": null,
      "outputs": []
    },
    {
      "cell_type": "code",
      "metadata": {
        "id": "XjfeX1iMa0y0",
        "colab_type": "code",
        "colab": {}
      },
      "source": [
        "# Inicializando variáveis que controlam o estado da matriz de coeficientes\n",
        "SPD = False\n",
        "hermitian = False"
      ],
      "execution_count": null,
      "outputs": []
    },
    {
      "cell_type": "code",
      "metadata": {
        "id": "72cg5DUhaLIH",
        "colab_type": "code",
        "colab": {}
      },
      "source": [
        "n = 3  # tamanho da matriz de coeficientes (a)"
      ],
      "execution_count": null,
      "outputs": []
    },
    {
      "cell_type": "code",
      "metadata": {
        "id": "6s3dJkc0aQGs",
        "colab_type": "code",
        "colab": {}
      },
      "source": [
        "# Criando a matriz de coeficientes\n",
        "a = [[4, 2, 14], [2, 17, -5], [14, -5, 83]]\n",
        "a = np.asarray(a)"
      ],
      "execution_count": null,
      "outputs": []
    },
    {
      "cell_type": "code",
      "metadata": {
        "id": "M_V0AXkhaYGk",
        "colab_type": "code",
        "colab": {}
      },
      "source": [
        "# Criando matriz de constantes\n",
        "b = [[14], [-101], [155]]\n",
        "b = np.asarray(b)"
      ],
      "execution_count": null,
      "outputs": []
    },
    {
      "cell_type": "code",
      "metadata": {
        "id": "Jv58USLqaq4l",
        "colab_type": "code",
        "colab": {}
      },
      "source": [
        "# Checando se é positivo definida. \n",
        "# Fazemos isso verificando se seus autovalores são todos não-nulos\n",
        "SPD = np.all(np.linalg.eigvals(a) > 0)"
      ],
      "execution_count": null,
      "outputs": []
    },
    {
      "cell_type": "code",
      "metadata": {
        "id": "9N6fo_ZCaaeW",
        "colab_type": "code",
        "colab": {}
      },
      "source": [
        "# Checando se a matriz é hermitiana através da sua composta\n",
        "\n",
        "# ATENÇÃO: SE A MATRIZ POSSUIR VALORES COMPLEXO, MUDE A VARIÁVEL ABAIXO\n",
        "complex = False"
      ],
      "execution_count": null,
      "outputs": []
    },
    {
      "cell_type": "code",
      "metadata": {
        "id": "RXnUhOcwnS-h",
        "colab_type": "code",
        "colab": {}
      },
      "source": [
        "if complex == False:\n",
        "    if ((a == a.transpose()).all()):\n",
        "        hermitian = True\n",
        "    else:\n",
        "        hermitian = False"
      ],
      "execution_count": null,
      "outputs": []
    },
    {
      "cell_type": "code",
      "metadata": {
        "id": "6k995KRFnzsE",
        "colab_type": "code",
        "colab": {}
      },
      "source": [
        "if complex == True:\n",
        "    if (A == A.getH()):\n",
        "        hermitian = True\n",
        "    else:\n",
        "        hermitian = False   "
      ],
      "execution_count": null,
      "outputs": []
    },
    {
      "cell_type": "code",
      "metadata": {
        "id": "vLfPVetYafdu",
        "colab_type": "code",
        "colab": {
          "base_uri": "https://localhost:8080/",
          "height": 34
        },
        "outputId": "9582a88e-2cc3-4964-c49d-b2a1f54173e6"
      },
      "source": [
        "if hermitian == True:\n",
        "    print(\"Tudo certo. Pode continuar com os métodos diretos :)\")"
      ],
      "execution_count": null,
      "outputs": [
        {
          "output_type": "stream",
          "text": [
            "Tudo certo. Pode continuar com os métodos diretos :)\n"
          ],
          "name": "stdout"
        }
      ]
    },
    {
      "cell_type": "code",
      "metadata": {
        "id": "jx8D4ve9bkvI",
        "colab_type": "code",
        "colab": {}
      },
      "source": [
        "########################################\n",
        "# Efetuando a decomposição de Cholesky #\n",
        "########################################\n",
        "\n",
        "# Criando matriz auxiliar\n",
        "chol = np.zeros((n, n))\n",
        "\n",
        "# Percorrendo as linhas\n",
        "for i in range(n):\n",
        "    \n",
        "    # Percorrendo as colunas\n",
        "    for j in range(i+1):\n",
        "\n",
        "        # Verificando se estamos dentro da diagonal\n",
        "        if i == j:\n",
        "    \n",
        "            # Efetuando a raiz quadrada da diagonal principal\n",
        "            square = np.square(chol[i, :i])\n",
        "            # Efetuando a somatória da raíz quadrada da diagonal principal\n",
        "            SOMA = np.sum(square)\n",
        "            # Subtraindo os elementos na diagonal pela somatória\n",
        "            diag = a[i, i] - SOMA\n",
        "            # Salvando no vetor resposta\n",
        "            chol[i, i] = math.sqrt(diag)\n",
        "\n",
        "        else: # Estamos fora da diagonal (aplica a divisão)\n",
        "            SOMA = np.sum(chol[i, :j] * chol[j, :j])\n",
        "            chol[i, j] = (a[i, j] - SOMA) / chol[j, j]"
      ],
      "execution_count": null,
      "outputs": []
    },
    {
      "cell_type": "code",
      "metadata": {
        "id": "4qDvcqtVd0f3",
        "colab_type": "code",
        "colab": {}
      },
      "source": [
        "# Aplicando substituição progressiva para resolver Ly = b para y (y_linha)\n",
        "y_linha_chol = [0 for i in range(len(chol))]\n",
        "for i in range(n):\n",
        "    y_linha_chol[i] = (b[i] - np.dot(y_linha_chol, chol[i]))/(chol[i, i])\n",
        "\n",
        "# Aplicando substituição regressiva para resolver Ux = y' para x\n",
        "x_chol = [0 for i in range(len(chol))]\n",
        "for i in range(n-1, -1, -1):\n",
        "    x_chol[i] = (y_linha_chol[i] - np.dot(x_chol, chol[i]))/(chol[i, i])"
      ],
      "execution_count": null,
      "outputs": []
    },
    {
      "cell_type": "markdown",
      "metadata": {
        "id": "O-g9mtkloe5d",
        "colab_type": "text"
      },
      "source": [
        "---\n",
        "RESULTADOS DO ALGORITMO DE DECOMPOSIÇÃO DE CHOLESKY"
      ]
    },
    {
      "cell_type": "code",
      "metadata": {
        "id": "7kGUfR2hogii",
        "colab_type": "code",
        "colab": {
          "base_uri": "https://localhost:8080/",
          "height": 34
        },
        "outputId": "9d7d3319-dcd8-4102-a113-389bb8bd7a2a"
      },
      "source": [
        "y_linha_chol"
      ],
      "execution_count": null,
      "outputs": [
        {
          "output_type": "execute_result",
          "data": {
            "text/plain": [
              "[array([7.]), array([-27.]), array([5.])]"
            ]
          },
          "metadata": {
            "tags": []
          },
          "execution_count": 40
        }
      ]
    },
    {
      "cell_type": "code",
      "metadata": {
        "id": "MsLstIG5oiC8",
        "colab_type": "code",
        "colab": {
          "base_uri": "https://localhost:8080/",
          "height": 34
        },
        "outputId": "d199c2c5-dba2-43cf-cdd1-4812ab5799b1"
      },
      "source": [
        "x_chol"
      ],
      "execution_count": null,
      "outputs": [
        {
          "output_type": "execute_result",
          "data": {
            "text/plain": [
              "[array([3.5]), array([-6.75]), array([1.])]"
            ]
          },
          "metadata": {
            "tags": []
          },
          "execution_count": 41
        }
      ]
    },
    {
      "cell_type": "markdown",
      "metadata": {
        "id": "YxDwerbTspFu",
        "colab_type": "text"
      },
      "source": [
        "---"
      ]
    },
    {
      "cell_type": "code",
      "metadata": {
        "id": "15eJHzDUb2SH",
        "colab_type": "code",
        "colab": {}
      },
      "source": [
        "###############################\n",
        "# Efetuando a decomposição LU #\n",
        "###############################\n",
        "\n",
        "# Criando matrizes triangulares superior (U) e inferior (L)\n",
        "U = np.identity(n)\n",
        "L = np.identity(n)\n",
        "\n",
        "# Percorrendo as linhas da matrizes\n",
        "for j in range(n):\n",
        "    # Percorrendo as colunas da matriz\n",
        "    for j in range(n):\n",
        "\n",
        "        # Calculando U[i,j] para j >= i\n",
        "        for i in range(j+1):\n",
        "            U[i][j] = a[i][j] - np.sum(np.fromiter((U[k][j] * L[i][k] for k in range(i)), dtype=float))\n",
        "\n",
        "        # Calculando L[i,j] para i > j\n",
        "        for i in range(j, n):\n",
        "            L[i][j] = (a[i][j] - np.sum(np.fromiter((U[k][j] * L[i][k] for k in range(j)),dtype=float))) / U[j][j]"
      ],
      "execution_count": null,
      "outputs": []
    },
    {
      "cell_type": "code",
      "metadata": {
        "id": "kj8Jev5_e55C",
        "colab_type": "code",
        "colab": {}
      },
      "source": [
        "# Aplicando substituição progressiva para resolver Ly = b para y (y_linha)\n",
        "y_linha_lu = [0 for i in range(len(L))]\n",
        "for i in range(n):\n",
        "    y_linha_lu[i] = float((b[i] - np.dot(y_linha_lu, L[i]))/(L[i, i]))\n",
        "\n",
        "# Aplicando substituição regressiva para resolver Ux = y' para x\n",
        "x_lu = [0 for i in range(len(U))]\n",
        "for i in range(n-1, -1, -1):\n",
        "    x_lu[i] = float((y_linha_lu[i] - np.dot(x_lu, U[i]))/(U[i, i]))"
      ],
      "execution_count": null,
      "outputs": []
    },
    {
      "cell_type": "markdown",
      "metadata": {
        "id": "eeQk6JYmolpy",
        "colab_type": "text"
      },
      "source": [
        "---\n",
        "RESULTADOS DO ALGORITMO DE DECOMPOSIÇÃO LU"
      ]
    },
    {
      "cell_type": "code",
      "metadata": {
        "id": "bAcyPc9jon2s",
        "colab_type": "code",
        "colab": {
          "base_uri": "https://localhost:8080/",
          "height": 34
        },
        "outputId": "88c37ec6-dff2-4196-9cfa-fc382e6dc993"
      },
      "source": [
        "y_linha_lu"
      ],
      "execution_count": null,
      "outputs": [
        {
          "output_type": "execute_result",
          "data": {
            "text/plain": [
              "[14.0, -108.0, 25.0]"
            ]
          },
          "metadata": {
            "tags": []
          },
          "execution_count": 52
        }
      ]
    },
    {
      "cell_type": "code",
      "metadata": {
        "id": "EgkdDLsQrq3E",
        "colab_type": "code",
        "colab": {
          "base_uri": "https://localhost:8080/",
          "height": 34
        },
        "outputId": "a476eeb8-af8d-4e64-b45e-ad5bad7a8756"
      },
      "source": [
        "x_lu"
      ],
      "execution_count": null,
      "outputs": [
        {
          "output_type": "execute_result",
          "data": {
            "text/plain": [
              "[3.0, -6.0, 1.0]"
            ]
          },
          "metadata": {
            "tags": []
          },
          "execution_count": 53
        }
      ]
    },
    {
      "cell_type": "markdown",
      "metadata": {
        "id": "WKaZC9TvsuzT",
        "colab_type": "text"
      },
      "source": [
        "---"
      ]
    },
    {
      "cell_type": "code",
      "metadata": {
        "id": "sNzyt0HvcIPm",
        "colab_type": "code",
        "colab": {}
      },
      "source": [
        "######################################\n",
        "# Efetuando a eliminação Gauss-Pivot #\n",
        "######################################\n",
        "\n",
        "a_new = np.copy(a) # copiando coeficientes\n",
        "b_new = np.copy(b) # copiando valores constantes\n",
        "\n",
        "# percorre as linhas da matriz\n",
        "for k in range(0, n-1):\n",
        "    for i in range(k+1, n):\n",
        "\n",
        "        # pegando o index do maximo elemento na coluna\n",
        "        pos = np.argmax(a_new[k:, k])\n",
        "\n",
        "        # vendo se o pivo, eh o maior elemento presente na coluna, caso seja, as linhas são trocadas\n",
        "        if (a_new[k][k] == 0 & k != k + pos):\n",
        "            a_new[[k, k+pos]] = a_new[[k+pos, k]]\n",
        "            b_new[[k, k+pos]] = b_new[[k+pos, k]]\n",
        "\n",
        "        # Calculando coeficiente que multiplica a linha\n",
        "        m = -a_new[i][k]/a_new[k][k]\n",
        "\n",
        "        # Realizando o cálculo dos novos valores da matriz\n",
        "        for j in range(k, n):\n",
        "            a_new[i][j] = a_new[i][j] + m*a_new[k][j]\n",
        "\n",
        "        b_new[i] = b_new[i] + m*b_new[k]"
      ],
      "execution_count": null,
      "outputs": []
    },
    {
      "cell_type": "code",
      "metadata": {
        "id": "pDmrCnNffQC2",
        "colab_type": "code",
        "colab": {
          "base_uri": "https://localhost:8080/",
          "height": 198
        },
        "outputId": "15a0f433-2993-4c07-b518-84521a591213"
      },
      "source": [
        "# gerando vetor pra guardar a resposta\n",
        "x_gaussPivot = np.empty(n, dtype=np.float)\n",
        "\n",
        "# substituição regressiva\n",
        "for i in range(0, n):\n",
        "    x_gaussPivot[n-1-i] = b_new[n-1-i] / a_new[n-1-i][n-1-i]\n",
        "    for k in range(0, n-i):\n",
        "        b_new[n-i-k-1] -= a_new[n-i-k-1][n-1-i] * x_gaussPivot[n-1-i]"
      ],
      "execution_count": null,
      "outputs": [
        {
          "output_type": "error",
          "ename": "UFuncTypeError",
          "evalue": "ignored",
          "traceback": [
            "\u001b[0;31m---------------------------------------------------------------------------\u001b[0m",
            "\u001b[0;31mUFuncTypeError\u001b[0m                            Traceback (most recent call last)",
            "\u001b[0;32m<ipython-input-57-80651d449424>\u001b[0m in \u001b[0;36m<module>\u001b[0;34m()\u001b[0m\n\u001b[1;32m      6\u001b[0m     \u001b[0mx_gaussPivot\u001b[0m\u001b[0;34m[\u001b[0m\u001b[0mn\u001b[0m\u001b[0;34m-\u001b[0m\u001b[0;36m1\u001b[0m\u001b[0;34m-\u001b[0m\u001b[0mi\u001b[0m\u001b[0;34m]\u001b[0m \u001b[0;34m=\u001b[0m \u001b[0mb_new\u001b[0m\u001b[0;34m[\u001b[0m\u001b[0mn\u001b[0m\u001b[0;34m-\u001b[0m\u001b[0;36m1\u001b[0m\u001b[0;34m-\u001b[0m\u001b[0mi\u001b[0m\u001b[0;34m]\u001b[0m \u001b[0;34m/\u001b[0m \u001b[0ma_new\u001b[0m\u001b[0;34m[\u001b[0m\u001b[0mn\u001b[0m\u001b[0;34m-\u001b[0m\u001b[0;36m1\u001b[0m\u001b[0;34m-\u001b[0m\u001b[0mi\u001b[0m\u001b[0;34m]\u001b[0m\u001b[0;34m[\u001b[0m\u001b[0mn\u001b[0m\u001b[0;34m-\u001b[0m\u001b[0;36m1\u001b[0m\u001b[0;34m-\u001b[0m\u001b[0mi\u001b[0m\u001b[0;34m]\u001b[0m\u001b[0;34m\u001b[0m\u001b[0;34m\u001b[0m\u001b[0m\n\u001b[1;32m      7\u001b[0m     \u001b[0;32mfor\u001b[0m \u001b[0mk\u001b[0m \u001b[0;32min\u001b[0m \u001b[0mrange\u001b[0m\u001b[0;34m(\u001b[0m\u001b[0;36m0\u001b[0m\u001b[0;34m,\u001b[0m \u001b[0mn\u001b[0m\u001b[0;34m-\u001b[0m\u001b[0mi\u001b[0m\u001b[0;34m)\u001b[0m\u001b[0;34m:\u001b[0m\u001b[0;34m\u001b[0m\u001b[0;34m\u001b[0m\u001b[0m\n\u001b[0;32m----> 8\u001b[0;31m         \u001b[0mb_new\u001b[0m\u001b[0;34m[\u001b[0m\u001b[0mn\u001b[0m\u001b[0;34m-\u001b[0m\u001b[0mi\u001b[0m\u001b[0;34m-\u001b[0m\u001b[0mk\u001b[0m\u001b[0;34m-\u001b[0m\u001b[0;36m1\u001b[0m\u001b[0;34m]\u001b[0m \u001b[0;34m-=\u001b[0m \u001b[0ma_new\u001b[0m\u001b[0;34m[\u001b[0m\u001b[0mn\u001b[0m\u001b[0;34m-\u001b[0m\u001b[0mi\u001b[0m\u001b[0;34m-\u001b[0m\u001b[0mk\u001b[0m\u001b[0;34m-\u001b[0m\u001b[0;36m1\u001b[0m\u001b[0;34m]\u001b[0m\u001b[0;34m[\u001b[0m\u001b[0mn\u001b[0m\u001b[0;34m-\u001b[0m\u001b[0;36m1\u001b[0m\u001b[0;34m-\u001b[0m\u001b[0mi\u001b[0m\u001b[0;34m]\u001b[0m \u001b[0;34m*\u001b[0m \u001b[0mx_gaussPivot\u001b[0m\u001b[0;34m[\u001b[0m\u001b[0mn\u001b[0m\u001b[0;34m-\u001b[0m\u001b[0;36m1\u001b[0m\u001b[0;34m-\u001b[0m\u001b[0mi\u001b[0m\u001b[0;34m]\u001b[0m\u001b[0;34m\u001b[0m\u001b[0;34m\u001b[0m\u001b[0m\n\u001b[0m",
            "\u001b[0;31mUFuncTypeError\u001b[0m: Cannot cast ufunc 'subtract' output from dtype('float64') to dtype('int64') with casting rule 'same_kind'"
          ]
        }
      ]
    }
  ]
}